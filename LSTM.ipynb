{
 "cells": [
  {
   "cell_type": "markdown",
   "metadata": {},
   "source": [
    "# Análise Passagens de Avião Rio - Berlim"
   ]
  },
  {
   "cell_type": "markdown",
   "metadata": {},
   "source": [
    "## Import e Pré-Processamento do Dataset"
   ]
  },
  {
   "cell_type": "code",
   "execution_count": 1,
   "metadata": {
    "id": "nTyjrmPd1Rlu"
   },
   "outputs": [],
   "source": [
    "import pandas as pd\n",
    "import matplotlib.pyplot as plt\n",
    "import matplotlib.ticker as mtick"
   ]
  },
  {
   "cell_type": "code",
   "execution_count": 2,
   "metadata": {
    "id": "dLZdm4hC1Rlz"
   },
   "outputs": [],
   "source": [
    "seed_value= 0\n",
    "import os\n",
    "os.environ['PYTHONHASHSEED']=str(seed_value)\n",
    "import random\n",
    "random.seed(seed_value)\n",
    "import numpy as np\n",
    "np.random.seed(seed_value)\n",
    "import tensorflow as tf\n",
    "tf.random.set_seed(seed_value)\n",
    "from keras import backend as K"
   ]
  },
  {
   "cell_type": "code",
   "execution_count": 3,
   "metadata": {
    "id": "gHCNOJK_1Rl0"
   },
   "outputs": [],
   "source": [
    "df_2022 = pd.read_csv(r\"C:\\Users\\lgrne\\OneDrive\\Documents\\AULAS PUC BI\\Projeto Final\\csv_scrap\\berlim_2022_v2.csv\")\n",
    "df_2023 = pd.read_csv(r\"C:\\Users\\lgrne\\OneDrive\\Documents\\AULAS PUC BI\\Projeto Final\\csv_scrap\\berlim_2023_v2.csv\")\n",
    "\n",
    "dataframes = [df_2022,df_2023]"
   ]
  },
  {
   "cell_type": "code",
   "execution_count": 4,
   "metadata": {
    "id": "PSSiAh8C1Rl0"
   },
   "outputs": [],
   "source": [
    "# Concatenando os dois csvs em um único dataset, e fazendo uma limpeza de colunas desnecessárias\n",
    "\n",
    "df_final = pd.concat(dataframes)"
   ]
  },
  {
   "cell_type": "code",
   "execution_count": 5,
   "metadata": {
    "id": "epajzSr71Rl1"
   },
   "outputs": [],
   "source": [
    "df_final = df_final.reset_index()\n",
    "\n",
    "df_final = df_final.drop(\"index\", axis=1)\n",
    "\n",
    "df_final = df_final.drop(\"Unnamed: 0\", axis=1)"
   ]
  },
  {
   "cell_type": "code",
   "execution_count": 6,
   "metadata": {
    "colab": {
     "base_uri": "https://localhost:8080/",
     "height": 424
    },
    "id": "nQDfKnAP1Rl1",
    "outputId": "d7ff5ffd-255e-46d9-c846-c7c8a4101ba9",
    "scrolled": false
   },
   "outputs": [
    {
     "data": {
      "text/html": [
       "<div>\n",
       "<style scoped>\n",
       "    .dataframe tbody tr th:only-of-type {\n",
       "        vertical-align: middle;\n",
       "    }\n",
       "\n",
       "    .dataframe tbody tr th {\n",
       "        vertical-align: top;\n",
       "    }\n",
       "\n",
       "    .dataframe thead th {\n",
       "        text-align: right;\n",
       "    }\n",
       "</style>\n",
       "<table border=\"1\" class=\"dataframe\">\n",
       "  <thead>\n",
       "    <tr style=\"text-align: right;\">\n",
       "      <th></th>\n",
       "      <th>Destino</th>\n",
       "      <th>Ida</th>\n",
       "      <th>Volta</th>\n",
       "      <th>Preco</th>\n",
       "    </tr>\n",
       "  </thead>\n",
       "  <tbody>\n",
       "    <tr>\n",
       "      <th>0</th>\n",
       "      <td>Berlim</td>\n",
       "      <td>2022-07-01</td>\n",
       "      <td>2022-07-08</td>\n",
       "      <td>R$ 9.923</td>\n",
       "    </tr>\n",
       "    <tr>\n",
       "      <th>1</th>\n",
       "      <td>Berlim</td>\n",
       "      <td>2022-07-03</td>\n",
       "      <td>2022-07-10</td>\n",
       "      <td>R$ 8.888</td>\n",
       "    </tr>\n",
       "    <tr>\n",
       "      <th>2</th>\n",
       "      <td>Berlim</td>\n",
       "      <td>2022-07-06</td>\n",
       "      <td>2022-07-13</td>\n",
       "      <td>R$ 8.275</td>\n",
       "    </tr>\n",
       "    <tr>\n",
       "      <th>3</th>\n",
       "      <td>Berlim</td>\n",
       "      <td>2022-07-09</td>\n",
       "      <td>2022-07-16</td>\n",
       "      <td>R$ 9.867</td>\n",
       "    </tr>\n",
       "    <tr>\n",
       "      <th>4</th>\n",
       "      <td>Berlim</td>\n",
       "      <td>2022-07-12</td>\n",
       "      <td>2022-07-19</td>\n",
       "      <td>R$ 8.714</td>\n",
       "    </tr>\n",
       "    <tr>\n",
       "      <th>...</th>\n",
       "      <td>...</td>\n",
       "      <td>...</td>\n",
       "      <td>...</td>\n",
       "      <td>...</td>\n",
       "    </tr>\n",
       "    <tr>\n",
       "      <th>83</th>\n",
       "      <td>Berlim</td>\n",
       "      <td>2023-05-09</td>\n",
       "      <td>2023-05-16</td>\n",
       "      <td>R$ 3.682</td>\n",
       "    </tr>\n",
       "    <tr>\n",
       "      <th>84</th>\n",
       "      <td>Berlim</td>\n",
       "      <td>2023-05-12</td>\n",
       "      <td>2023-05-19</td>\n",
       "      <td>R$ 3.970</td>\n",
       "    </tr>\n",
       "    <tr>\n",
       "      <th>85</th>\n",
       "      <td>Berlim</td>\n",
       "      <td>2023-05-15</td>\n",
       "      <td>2023-05-22</td>\n",
       "      <td>R$ 3.970</td>\n",
       "    </tr>\n",
       "    <tr>\n",
       "      <th>86</th>\n",
       "      <td>Berlim</td>\n",
       "      <td>2023-05-18</td>\n",
       "      <td>2023-05-25</td>\n",
       "      <td>R$ 3.682</td>\n",
       "    </tr>\n",
       "    <tr>\n",
       "      <th>87</th>\n",
       "      <td>Berlim</td>\n",
       "      <td>2023-05-21</td>\n",
       "      <td>2023-05-28</td>\n",
       "      <td>R$ 3.970</td>\n",
       "    </tr>\n",
       "  </tbody>\n",
       "</table>\n",
       "<p>88 rows × 4 columns</p>\n",
       "</div>"
      ],
      "text/plain": [
       "   Destino         Ida       Volta     Preco\n",
       "0   Berlim  2022-07-01  2022-07-08  R$ 9.923\n",
       "1   Berlim  2022-07-03  2022-07-10  R$ 8.888\n",
       "2   Berlim  2022-07-06  2022-07-13  R$ 8.275\n",
       "3   Berlim  2022-07-09  2022-07-16  R$ 9.867\n",
       "4   Berlim  2022-07-12  2022-07-19  R$ 8.714\n",
       "..     ...         ...         ...       ...\n",
       "83  Berlim  2023-05-09  2023-05-16  R$ 3.682\n",
       "84  Berlim  2023-05-12  2023-05-19  R$ 3.970\n",
       "85  Berlim  2023-05-15  2023-05-22  R$ 3.970\n",
       "86  Berlim  2023-05-18  2023-05-25  R$ 3.682\n",
       "87  Berlim  2023-05-21  2023-05-28  R$ 3.970\n",
       "\n",
       "[88 rows x 4 columns]"
      ]
     },
     "execution_count": 6,
     "metadata": {},
     "output_type": "execute_result"
    }
   ],
   "source": [
    "df_final"
   ]
  },
  {
   "cell_type": "code",
   "execution_count": 7,
   "metadata": {
    "id": "5cge1nzp1Rl2"
   },
   "outputs": [],
   "source": [
    "#Limpando a coluna de preço, e convertendo os valores de string para inteiro\n",
    "\n",
    "for i in df_final.index:\n",
    "    df_final.loc[i,'Preco'] = df_final.loc[i,'Preco'].replace(\"R$ \",\"\")\n",
    "    df_final.loc[i,'Preco'] = df_final.loc[i,'Preco'].replace(\".\",\"\")\n",
    "    \n",
    "df_final['Preco'] = df_final['Preco'].astype(int)"
   ]
  },
  {
   "cell_type": "code",
   "execution_count": 8,
   "metadata": {
    "id": "cODlPMI01Rl3"
   },
   "outputs": [],
   "source": [
    "#Criando um segundo dataset com as datas como index e o unico valor de preço \n",
    "\n",
    "df_final2 = df_final\n",
    "df_final2.index = df_final['Ida']\n",
    "df_final2 = df_final.drop(columns=['Destino', 'Volta','Ida'])"
   ]
  },
  {
   "cell_type": "code",
   "execution_count": 9,
   "metadata": {
    "colab": {
     "base_uri": "https://localhost:8080/",
     "height": 455
    },
    "id": "110ZjX631Rl4",
    "outputId": "331da2df-9a16-4d90-848e-68acf4aee7e1"
   },
   "outputs": [
    {
     "data": {
      "text/html": [
       "<div>\n",
       "<style scoped>\n",
       "    .dataframe tbody tr th:only-of-type {\n",
       "        vertical-align: middle;\n",
       "    }\n",
       "\n",
       "    .dataframe tbody tr th {\n",
       "        vertical-align: top;\n",
       "    }\n",
       "\n",
       "    .dataframe thead th {\n",
       "        text-align: right;\n",
       "    }\n",
       "</style>\n",
       "<table border=\"1\" class=\"dataframe\">\n",
       "  <thead>\n",
       "    <tr style=\"text-align: right;\">\n",
       "      <th></th>\n",
       "      <th>Preco</th>\n",
       "    </tr>\n",
       "    <tr>\n",
       "      <th>Ida</th>\n",
       "      <th></th>\n",
       "    </tr>\n",
       "  </thead>\n",
       "  <tbody>\n",
       "    <tr>\n",
       "      <th>2022-07-01</th>\n",
       "      <td>9923</td>\n",
       "    </tr>\n",
       "    <tr>\n",
       "      <th>2022-07-03</th>\n",
       "      <td>8888</td>\n",
       "    </tr>\n",
       "    <tr>\n",
       "      <th>2022-07-06</th>\n",
       "      <td>8275</td>\n",
       "    </tr>\n",
       "    <tr>\n",
       "      <th>2022-07-09</th>\n",
       "      <td>9867</td>\n",
       "    </tr>\n",
       "    <tr>\n",
       "      <th>2022-07-12</th>\n",
       "      <td>8714</td>\n",
       "    </tr>\n",
       "    <tr>\n",
       "      <th>...</th>\n",
       "      <td>...</td>\n",
       "    </tr>\n",
       "    <tr>\n",
       "      <th>2023-05-09</th>\n",
       "      <td>3682</td>\n",
       "    </tr>\n",
       "    <tr>\n",
       "      <th>2023-05-12</th>\n",
       "      <td>3970</td>\n",
       "    </tr>\n",
       "    <tr>\n",
       "      <th>2023-05-15</th>\n",
       "      <td>3970</td>\n",
       "    </tr>\n",
       "    <tr>\n",
       "      <th>2023-05-18</th>\n",
       "      <td>3682</td>\n",
       "    </tr>\n",
       "    <tr>\n",
       "      <th>2023-05-21</th>\n",
       "      <td>3970</td>\n",
       "    </tr>\n",
       "  </tbody>\n",
       "</table>\n",
       "<p>88 rows × 1 columns</p>\n",
       "</div>"
      ],
      "text/plain": [
       "            Preco\n",
       "Ida              \n",
       "2022-07-01   9923\n",
       "2022-07-03   8888\n",
       "2022-07-06   8275\n",
       "2022-07-09   9867\n",
       "2022-07-12   8714\n",
       "...           ...\n",
       "2023-05-09   3682\n",
       "2023-05-12   3970\n",
       "2023-05-15   3970\n",
       "2023-05-18   3682\n",
       "2023-05-21   3970\n",
       "\n",
       "[88 rows x 1 columns]"
      ]
     },
     "execution_count": 9,
     "metadata": {},
     "output_type": "execute_result"
    }
   ],
   "source": [
    "df_final2"
   ]
  },
  {
   "cell_type": "code",
   "execution_count": 10,
   "metadata": {
    "colab": {
     "base_uri": "https://localhost:8080/",
     "height": 350
    },
    "id": "o_UuwpqU1Rl5",
    "outputId": "855713e5-4709-4216-beed-eccda2fc8c21",
    "scrolled": true
   },
   "outputs": [
    {
     "data": {
      "image/png": "[encoded data removed]",
      "text/plain": [
       "<Figure size 1440x360 with 1 Axes>"
      ]
     },
     "metadata": {
      "needs_background": "light"
     },
     "output_type": "display_data"
    }
   ],
   "source": [
    "#Plot final do dataset\n",
    "\n",
    "fig, ax = plt.subplots(figsize=(20,5))\n",
    "plt.plot(df_final2['Preco'])\n",
    "plt.xlabel(\"Data de Ida\")\n",
    "plt.ylabel(\"Preco (R$)\")\n",
    "plt.title(\"Histórico de Preços Berlim\")\n",
    "plt.xticks([0,10,20,30,40,50,60,70,80,87]) \n",
    "plt.show()"
   ]
  },
  {
   "cell_type": "markdown",
   "metadata": {},
   "source": [
    "## Separação em treino e teste e Normalização"
   ]
  },
  {
   "cell_type": "code",
   "execution_count": 11,
   "metadata": {
    "id": "XAlmjUIF1Rl6"
   },
   "outputs": [],
   "source": [
    "# É necessário fazer esse window antes para garantir que está mantendo o vínculo temporal de evolução dos dados\n",
    "window = 3\n",
    "dataSize = len(df_final2['Preco'])\n",
    "X = []\n",
    "y = []\n",
    "for i in range(window, dataSize):\n",
    "    X.append(df_final2.iloc[i-window:i, 0])\n",
    "    y.append(df_final2.iloc[i, 0])\n",
    "X, y = np.array(X), np.array(y)"
   ]
  },
  {
   "cell_type": "code",
   "execution_count": 12,
   "metadata": {
    "colab": {
     "base_uri": "https://localhost:8080/"
    },
    "id": "l6my5Bz06jaY",
    "outputId": "d201a66b-bde6-4b2f-f252-13caba6558f7"
   },
   "outputs": [
    {
     "data": {
      "text/plain": [
       "((85, 3), (85,))"
      ]
     },
     "execution_count": 12,
     "metadata": {},
     "output_type": "execute_result"
    }
   ],
   "source": [
    "X.shape,y.shape"
   ]
  },
  {
   "cell_type": "code",
   "execution_count": 13,
   "metadata": {
    "id": "qwcVKBPh1Rl5"
   },
   "outputs": [],
   "source": [
    "# Separando entre treino e teste o dataset completo (X,y) -> (X_train, y_train e X_test, y_test)\n",
    "\n",
    "from sklearn.model_selection import train_test_split\n",
    "\n",
    "X_train, X_test, y_train, y_test = train_test_split(X, y, test_size=0.2)"
   ]
  },
  {
   "cell_type": "code",
   "execution_count": 14,
   "metadata": {
    "id": "O4g6utJ01Rl6"
   },
   "outputs": [],
   "source": [
    "# Normalização\n",
    "\n",
    "from sklearn.preprocessing import MinMaxScaler\n",
    "\n",
    "sc_x = MinMaxScaler(feature_range = (0, 1))\n",
    "X_train = sc_x.fit_transform(X_train)\n",
    "X_test = sc_x.transform(X_test)\n",
    "\n",
    "sc_y = MinMaxScaler(feature_range = (0, 1))\n",
    "y_train = sc_y.fit_transform(y_train.reshape(-1,1))\n",
    "y_test = sc_y.transform(y_test.reshape(-1,1))"
   ]
  },
  {
   "cell_type": "markdown",
   "metadata": {
    "id": "wdr_FLmG1Rl7"
   },
   "source": [
    "### LSTM"
   ]
  },
  {
   "cell_type": "code",
   "execution_count": 15,
   "metadata": {
    "id": "q-0kify31Rl9"
   },
   "outputs": [],
   "source": [
    "# Reshape para entrada nas redes do keras\n",
    "\n",
    "X_train_reshape = np.reshape(X_train, (X_train.shape[0], X_train.shape[1], 1))\n",
    "X_test_reshape = np.reshape(X_test, (X_test.shape[0], X_test.shape[1], 1))"
   ]
  },
  {
   "cell_type": "code",
   "execution_count": 16,
   "metadata": {
    "colab": {
     "base_uri": "https://localhost:8080/"
    },
    "id": "DW3KfO3J8cIS",
    "outputId": "76d7879d-61ca-455e-da88-e092028d6847"
   },
   "outputs": [
    {
     "data": {
      "text/plain": [
       "(68, 3, 1)"
      ]
     },
     "execution_count": 16,
     "metadata": {},
     "output_type": "execute_result"
    }
   ],
   "source": [
    "X_train_reshape.shape"
   ]
  },
  {
   "cell_type": "code",
   "execution_count": 17,
   "metadata": {
    "id": "v-hpKM0r1Rl9"
   },
   "outputs": [],
   "source": [
    "from keras.models import Sequential\n",
    "from keras.layers import Dense, LSTM, Dropout\n",
    "from tensorflow.keras.callbacks import EarlyStopping, ReduceLROnPlateau"
   ]
  },
  {
   "cell_type": "code",
   "execution_count": 18,
   "metadata": {
    "colab": {
     "base_uri": "https://localhost:8080/"
    },
    "id": "mYCFeDJm1Rl-",
    "outputId": "dad0c06d-4e81-43eb-f864-bcbf836a3b3a"
   },
   "outputs": [
    {
     "name": "stdout",
     "output_type": "stream",
     "text": [
      "Model: \"sequential\"\n",
      "_________________________________________________________________\n",
      " Layer (type)                Output Shape              Param #   \n",
      "=================================================================\n",
      " lstm (LSTM)                 (None, 3, 100)            40800     \n",
      "                                                                 \n",
      " lstm_1 (LSTM)               (None, 100)               80400     \n",
      "                                                                 \n",
      " dense (Dense)               (None, 1)                 101       \n",
      "                                                                 \n",
      "=================================================================\n",
      "Total params: 121,301\n",
      "Trainable params: 121,301\n",
      "Non-trainable params: 0\n",
      "_________________________________________________________________\n"
     ]
    }
   ],
   "source": [
    "# Inicializar a RNN\n",
    "regressor = Sequential()\n",
    "\n",
    "# Adicionar a primeira camada LSTM\n",
    "regressor.add(LSTM(units = 100, return_sequences = True, input_shape = (X_train_reshape.shape[1], 1)))\n",
    " \n",
    "# Adicionar a segunda camada LSTM\n",
    "regressor.add(LSTM(units = 100, return_sequences = False))\n",
    "\n",
    "# camada de saída\n",
    "regressor.add(Dense(units = 1, activation=None))\n",
    " \n",
    "# Compilar a rede\n",
    "lr = 0.001\n",
    "lr_adam = tf.keras.optimizers.Adam(learning_rate=lr)\n",
    "regressor.compile(optimizer = lr_adam, loss = 'mse', metrics='mae')\n",
    "\n",
    "# Visualizar a rede\n",
    "regressor.summary()"
   ]
  },
  {
   "cell_type": "code",
   "execution_count": 19,
   "metadata": {
    "colab": {
     "base_uri": "https://localhost:8080/"
    },
    "id": "4_XyjfO980on",
    "outputId": "46d08469-c1a1-4124-e974-ab047c1a19d1"
   },
   "outputs": [
    {
     "name": "stdout",
     "output_type": "stream",
     "text": [
      "Epoch 1/250\n",
      "2/2 [==============================] - 3s 741ms/step - loss: 0.1053 - mae: 0.2344 - val_loss: 0.1062 - val_mae: 0.2584 - lr: 0.0010\n",
      "Epoch 2/250\n",
      "2/2 [==============================] - 0s 23ms/step - loss: 0.0857 - mae: 0.2015 - val_loss: 0.0822 - val_mae: 0.2191 - lr: 0.0010\n",
      "Epoch 3/250\n",
      "2/2 [==============================] - 0s 23ms/step - loss: 0.0662 - mae: 0.1685 - val_loss: 0.0598 - val_mae: 0.1815 - lr: 0.0010\n",
      "Epoch 4/250\n",
      "2/2 [==============================] - 0s 23ms/step - loss: 0.0505 - mae: 0.1470 - val_loss: 0.0397 - val_mae: 0.1457 - lr: 0.0010\n",
      "Epoch 5/250\n",
      "2/2 [==============================] - 0s 23ms/step - loss: 0.0354 - mae: 0.1295 - val_loss: 0.0241 - val_mae: 0.1144 - lr: 0.0010\n",
      "Epoch 6/250\n",
      "2/2 [==============================] - 0s 23ms/step - loss: 0.0240 - mae: 0.1206 - val_loss: 0.0153 - val_mae: 0.1006 - lr: 0.0010\n",
      "Epoch 7/250\n",
      "2/2 [==============================] - 0s 25ms/step - loss: 0.0194 - mae: 0.1220 - val_loss: 0.0150 - val_mae: 0.1063 - lr: 0.0010\n",
      "Epoch 8/250\n",
      "2/2 [==============================] - 0s 23ms/step - loss: 0.0211 - mae: 0.1314 - val_loss: 0.0184 - val_mae: 0.1143 - lr: 0.0010\n",
      "Epoch 9/250\n",
      "2/2 [==============================] - 0s 23ms/step - loss: 0.0237 - mae: 0.1395 - val_loss: 0.0182 - val_mae: 0.1128 - lr: 0.0010\n",
      "Epoch 10/250\n",
      "2/2 [==============================] - 0s 23ms/step - loss: 0.0225 - mae: 0.1362 - val_loss: 0.0144 - val_mae: 0.1011 - lr: 0.0010\n",
      "Epoch 11/250\n",
      "2/2 [==============================] - 0s 22ms/step - loss: 0.0183 - mae: 0.1225 - val_loss: 0.0106 - val_mae: 0.0898 - lr: 0.0010\n",
      "Epoch 12/250\n",
      "2/2 [==============================] - 0s 23ms/step - loss: 0.0142 - mae: 0.1066 - val_loss: 0.0093 - val_mae: 0.0822 - lr: 0.0010\n",
      "Epoch 13/250\n",
      "2/2 [==============================] - 0s 23ms/step - loss: 0.0127 - mae: 0.0948 - val_loss: 0.0099 - val_mae: 0.0814 - lr: 0.0010\n",
      "Epoch 14/250\n",
      "2/2 [==============================] - 0s 22ms/step - loss: 0.0127 - mae: 0.0882 - val_loss: 0.0105 - val_mae: 0.0833 - lr: 0.0010\n",
      "Epoch 15/250\n",
      "2/2 [==============================] - 0s 22ms/step - loss: 0.0127 - mae: 0.0824 - val_loss: 0.0100 - val_mae: 0.0812 - lr: 0.0010\n",
      "Epoch 16/250\n",
      "2/2 [==============================] - 0s 25ms/step - loss: 0.0120 - mae: 0.0774 - val_loss: 0.0087 - val_mae: 0.0757 - lr: 0.0010\n",
      "Epoch 17/250\n",
      "2/2 [==============================] - 0s 25ms/step - loss: 0.0108 - mae: 0.0729 - val_loss: 0.0073 - val_mae: 0.0694 - lr: 0.0010\n",
      "Epoch 18/250\n",
      "2/2 [==============================] - 0s 25ms/step - loss: 0.0095 - mae: 0.0717 - val_loss: 0.0066 - val_mae: 0.0634 - lr: 0.0010\n",
      "Epoch 19/250\n",
      "2/2 [==============================] - 0s 28ms/step - loss: 0.0093 - mae: 0.0727 - val_loss: 0.0069 - val_mae: 0.0637 - lr: 0.0010\n",
      "Epoch 20/250\n",
      "2/2 [==============================] - 0s 25ms/step - loss: 0.0094 - mae: 0.0743 - val_loss: 0.0073 - val_mae: 0.0655 - lr: 0.0010\n",
      "Epoch 21/250\n",
      "2/2 [==============================] - 0s 21ms/step - loss: 0.0096 - mae: 0.0738 - val_loss: 0.0072 - val_mae: 0.0644 - lr: 0.0010\n",
      "Epoch 22/250\n",
      "1/2 [==============>...............] - ETA: 0s - loss: 0.0101 - mae: 0.0741\n",
      "Epoch 22: ReduceLROnPlateau reducing learning rate to 0.0006000000284984708.\n",
      "2/2 [==============================] - 0s 24ms/step - loss: 0.0095 - mae: 0.0718 - val_loss: 0.0069 - val_mae: 0.0612 - lr: 0.0010\n",
      "Epoch 23/250\n",
      "2/2 [==============================] - 0s 23ms/step - loss: 0.0093 - mae: 0.0694 - val_loss: 0.0068 - val_mae: 0.0601 - lr: 6.0000e-04\n",
      "Epoch 24/250\n",
      "2/2 [==============================] - 0s 22ms/step - loss: 0.0093 - mae: 0.0682 - val_loss: 0.0067 - val_mae: 0.0606 - lr: 6.0000e-04\n",
      "Epoch 25/250\n",
      "2/2 [==============================] - 0s 23ms/step - loss: 0.0093 - mae: 0.0680 - val_loss: 0.0068 - val_mae: 0.0611 - lr: 6.0000e-04\n",
      "Epoch 26/250\n",
      "1/2 [==============>...............] - ETA: 0s - loss: 0.0102 - mae: 0.0730\n",
      "Epoch 26: ReduceLROnPlateau reducing learning rate to 0.0003600000170990825.\n",
      "2/2 [==============================] - 0s 23ms/step - loss: 0.0093 - mae: 0.0675 - val_loss: 0.0068 - val_mae: 0.0616 - lr: 6.0000e-04\n",
      "Epoch 27/250\n",
      "2/2 [==============================] - 0s 24ms/step - loss: 0.0093 - mae: 0.0674 - val_loss: 0.0068 - val_mae: 0.0617 - lr: 3.6000e-04\n",
      "Epoch 28/250\n",
      "2/2 [==============================] - 0s 23ms/step - loss: 0.0093 - mae: 0.0673 - val_loss: 0.0067 - val_mae: 0.0615 - lr: 3.6000e-04\n",
      "Epoch 29/250\n",
      "2/2 [==============================] - 0s 20ms/step - loss: 0.0092 - mae: 0.0672 - val_loss: 0.0067 - val_mae: 0.0611 - lr: 3.6000e-04\n",
      "Epoch 30/250\n",
      "1/2 [==============>...............] - ETA: 0s - loss: 0.0071 - mae: 0.0598\n",
      "Epoch 30: ReduceLROnPlateau reducing learning rate to 0.00021600000327453016.\n",
      "2/2 [==============================] - 0s 22ms/step - loss: 0.0092 - mae: 0.0676 - val_loss: 0.0066 - val_mae: 0.0609 - lr: 3.6000e-04\n",
      "Epoch 31/250\n",
      "2/2 [==============================] - 0s 21ms/step - loss: 0.0091 - mae: 0.0680 - val_loss: 0.0066 - val_mae: 0.0607 - lr: 2.1600e-04\n",
      "Epoch 32/250\n",
      "2/2 [==============================] - 0s 21ms/step - loss: 0.0091 - mae: 0.0684 - val_loss: 0.0066 - val_mae: 0.0606 - lr: 2.1600e-04\n",
      "Epoch 33/250\n",
      "2/2 [==============================] - 0s 22ms/step - loss: 0.0091 - mae: 0.0691 - val_loss: 0.0066 - val_mae: 0.0606 - lr: 2.1600e-04\n",
      "Epoch 34/250\n",
      "1/2 [==============>...............] - ETA: 0s - loss: 0.0090 - mae: 0.0676\n",
      "Epoch 34: ReduceLROnPlateau reducing learning rate to 0.00012960000021848827.\n",
      "2/2 [==============================] - 0s 23ms/step - loss: 0.0091 - mae: 0.0696 - val_loss: 0.0066 - val_mae: 0.0607 - lr: 2.1600e-04\n",
      "Epoch 35/250\n",
      "2/2 [==============================] - 0s 20ms/step - loss: 0.0091 - mae: 0.0699 - val_loss: 0.0066 - val_mae: 0.0607 - lr: 1.2960e-04\n",
      "Epoch 36/250\n",
      "2/2 [==============================] - 0s 20ms/step - loss: 0.0091 - mae: 0.0700 - val_loss: 0.0066 - val_mae: 0.0607 - lr: 1.2960e-04\n",
      "Epoch 37/250\n",
      "2/2 [==============================] - 0s 20ms/step - loss: 0.0091 - mae: 0.0699 - val_loss: 0.0066 - val_mae: 0.0608 - lr: 1.2960e-04\n",
      "Epoch 38/250\n",
      "1/2 [==============>...............] - ETA: 0s - loss: 0.0106 - mae: 0.0766\n",
      "Epoch 38: ReduceLROnPlateau reducing learning rate to 7.775999838486313e-05.\n",
      "2/2 [==============================] - 0s 21ms/step - loss: 0.0090 - mae: 0.0698 - val_loss: 0.0066 - val_mae: 0.0608 - lr: 1.2960e-04\n",
      "Epoch 39/250\n",
      "2/2 [==============================] - 0s 21ms/step - loss: 0.0090 - mae: 0.0697 - val_loss: 0.0066 - val_mae: 0.0608 - lr: 7.7760e-05\n",
      "Epoch 40/250\n",
      "2/2 [==============================] - 0s 23ms/step - loss: 0.0090 - mae: 0.0697 - val_loss: 0.0065 - val_mae: 0.0608 - lr: 7.7760e-05\n",
      "Epoch 41/250\n",
      "2/2 [==============================] - 0s 23ms/step - loss: 0.0090 - mae: 0.0696 - val_loss: 0.0065 - val_mae: 0.0608 - lr: 7.7760e-05\n",
      "Epoch 42/250\n",
      "1/2 [==============>...............] - ETA: 0s - loss: 0.0088 - mae: 0.0666\n",
      "Epoch 42: ReduceLROnPlateau reducing learning rate to 4.6655999904032795e-05.\n",
      "2/2 [==============================] - 0s 23ms/step - loss: 0.0090 - mae: 0.0696 - val_loss: 0.0065 - val_mae: 0.0608 - lr: 7.7760e-05\n",
      "Epoch 43/250\n",
      "2/2 [==============================] - 0s 22ms/step - loss: 0.0090 - mae: 0.0696 - val_loss: 0.0065 - val_mae: 0.0608 - lr: 4.6656e-05\n",
      "Epoch 44/250\n",
      "2/2 [==============================] - 0s 22ms/step - loss: 0.0090 - mae: 0.0695 - val_loss: 0.0065 - val_mae: 0.0608 - lr: 4.6656e-05\n",
      "Epoch 45/250\n",
      "2/2 [==============================] - 0s 21ms/step - loss: 0.0090 - mae: 0.0695 - val_loss: 0.0065 - val_mae: 0.0608 - lr: 4.6656e-05\n",
      "Epoch 46/250\n",
      "1/2 [==============>...............] - ETA: 0s - loss: 0.0089 - mae: 0.0686\n",
      "Epoch 46: ReduceLROnPlateau reducing learning rate to 2.799360081553459e-05.\n",
      "2/2 [==============================] - 0s 22ms/step - loss: 0.0090 - mae: 0.0695 - val_loss: 0.0065 - val_mae: 0.0608 - lr: 4.6656e-05\n",
      "Epoch 47/250\n",
      "2/2 [==============================] - 0s 23ms/step - loss: 0.0090 - mae: 0.0695 - val_loss: 0.0065 - val_mae: 0.0608 - lr: 2.7994e-05\n",
      "Epoch 48/250\n",
      "2/2 [==============================] - 0s 23ms/step - loss: 0.0090 - mae: 0.0695 - val_loss: 0.0065 - val_mae: 0.0608 - lr: 2.7994e-05\n",
      "Epoch 49/250\n",
      "2/2 [==============================] - 0s 25ms/step - loss: 0.0090 - mae: 0.0695 - val_loss: 0.0065 - val_mae: 0.0608 - lr: 2.7994e-05\n"
     ]
    },
    {
     "name": "stdout",
     "output_type": "stream",
     "text": [
      "Epoch 50/250\n",
      "1/2 [==============>...............] - ETA: 0s - loss: 0.0094 - mae: 0.0682\n",
      "Epoch 50: ReduceLROnPlateau reducing learning rate to 1.6796160707599483e-05.\n",
      "2/2 [==============================] - 0s 23ms/step - loss: 0.0090 - mae: 0.0696 - val_loss: 0.0065 - val_mae: 0.0608 - lr: 2.7994e-05\n",
      "Epoch 51/250\n",
      "2/2 [==============================] - 0s 21ms/step - loss: 0.0090 - mae: 0.0696 - val_loss: 0.0065 - val_mae: 0.0608 - lr: 1.6796e-05\n",
      "Epoch 52/250\n",
      "2/2 [==============================] - 0s 22ms/step - loss: 0.0090 - mae: 0.0696 - val_loss: 0.0065 - val_mae: 0.0608 - lr: 1.6796e-05\n",
      "Epoch 53/250\n",
      "2/2 [==============================] - 0s 22ms/step - loss: 0.0090 - mae: 0.0696 - val_loss: 0.0065 - val_mae: 0.0608 - lr: 1.6796e-05\n",
      "Epoch 54/250\n",
      "1/2 [==============>...............] - ETA: 0s - loss: 0.0087 - mae: 0.0680\n",
      "Epoch 54: ReduceLROnPlateau reducing learning rate to 1.007769642455969e-05.\n",
      "2/2 [==============================] - 0s 22ms/step - loss: 0.0090 - mae: 0.0696 - val_loss: 0.0065 - val_mae: 0.0608 - lr: 1.6796e-05\n",
      "Epoch 55/250\n",
      "2/2 [==============================] - 0s 21ms/step - loss: 0.0090 - mae: 0.0697 - val_loss: 0.0065 - val_mae: 0.0608 - lr: 1.0078e-05\n",
      "Epoch 56/250\n",
      "2/2 [==============================] - 0s 21ms/step - loss: 0.0090 - mae: 0.0697 - val_loss: 0.0065 - val_mae: 0.0608 - lr: 1.0078e-05\n",
      "Epoch 57/250\n",
      "2/2 [==============================] - 0s 21ms/step - loss: 0.0090 - mae: 0.0697 - val_loss: 0.0065 - val_mae: 0.0608 - lr: 1.0078e-05\n",
      "Epoch 58/250\n",
      "1/2 [==============>...............] - ETA: 0s - loss: 0.0083 - mae: 0.0654\n",
      "Epoch 58: ReduceLROnPlateau reducing learning rate to 6.046617636457085e-06.\n",
      "2/2 [==============================] - 0s 21ms/step - loss: 0.0090 - mae: 0.0697 - val_loss: 0.0065 - val_mae: 0.0608 - lr: 1.0078e-05\n",
      "Epoch 59/250\n",
      "2/2 [==============================] - 0s 22ms/step - loss: 0.0090 - mae: 0.0698 - val_loss: 0.0065 - val_mae: 0.0608 - lr: 6.0466e-06\n",
      "Epoch 60/250\n",
      "2/2 [==============================] - 0s 22ms/step - loss: 0.0090 - mae: 0.0698 - val_loss: 0.0065 - val_mae: 0.0608 - lr: 6.0466e-06\n",
      "Epoch 61/250\n",
      "2/2 [==============================] - 0s 22ms/step - loss: 0.0090 - mae: 0.0698 - val_loss: 0.0065 - val_mae: 0.0608 - lr: 6.0466e-06\n",
      "Epoch 62/250\n",
      "1/2 [==============>...............] - ETA: 0s - loss: 0.0108 - mae: 0.0769\n",
      "Epoch 62: ReduceLROnPlateau reducing learning rate to 3.6279706364439334e-06.\n",
      "2/2 [==============================] - 0s 21ms/step - loss: 0.0090 - mae: 0.0698 - val_loss: 0.0065 - val_mae: 0.0608 - lr: 6.0466e-06\n",
      "Epoch 63/250\n",
      "2/2 [==============================] - 0s 22ms/step - loss: 0.0090 - mae: 0.0698 - val_loss: 0.0065 - val_mae: 0.0608 - lr: 3.6280e-06\n",
      "Epoch 64/250\n",
      "2/2 [==============================] - 0s 20ms/step - loss: 0.0090 - mae: 0.0698 - val_loss: 0.0065 - val_mae: 0.0608 - lr: 3.6280e-06\n",
      "Epoch 65/250\n",
      "2/2 [==============================] - 0s 21ms/step - loss: 0.0090 - mae: 0.0698 - val_loss: 0.0065 - val_mae: 0.0608 - lr: 3.6280e-06\n",
      "Epoch 66/250\n",
      "1/2 [==============>...............] - ETA: 0s - loss: 0.0086 - mae: 0.0682\n",
      "Epoch 66: ReduceLROnPlateau reducing learning rate to 2.1767824364360423e-06.\n",
      "2/2 [==============================] - 0s 22ms/step - loss: 0.0090 - mae: 0.0698 - val_loss: 0.0065 - val_mae: 0.0608 - lr: 3.6280e-06\n",
      "Epoch 67/250\n",
      "2/2 [==============================] - 0s 21ms/step - loss: 0.0090 - mae: 0.0698 - val_loss: 0.0065 - val_mae: 0.0608 - lr: 2.1768e-06\n",
      "Epoch 68/250\n",
      "2/2 [==============================] - 0s 21ms/step - loss: 0.0090 - mae: 0.0698 - val_loss: 0.0065 - val_mae: 0.0608 - lr: 2.1768e-06\n",
      "Epoch 69/250\n",
      "2/2 [==============================] - 0s 22ms/step - loss: 0.0090 - mae: 0.0698 - val_loss: 0.0065 - val_mae: 0.0608 - lr: 2.1768e-06\n",
      "Epoch 70/250\n",
      "1/2 [==============>...............] - ETA: 0s - loss: 0.0079 - mae: 0.0670\n",
      "Epoch 70: ReduceLROnPlateau reducing learning rate to 1.3060694072919432e-06.\n",
      "2/2 [==============================] - 0s 22ms/step - loss: 0.0090 - mae: 0.0698 - val_loss: 0.0065 - val_mae: 0.0608 - lr: 2.1768e-06\n",
      "Epoch 71/250\n",
      "2/2 [==============================] - 0s 21ms/step - loss: 0.0090 - mae: 0.0698 - val_loss: 0.0065 - val_mae: 0.0608 - lr: 1.3061e-06\n",
      "Epoch 72/250\n",
      "2/2 [==============================] - 0s 21ms/step - loss: 0.0090 - mae: 0.0698 - val_loss: 0.0065 - val_mae: 0.0608 - lr: 1.3061e-06\n",
      "Epoch 73/250\n",
      "2/2 [==============================] - 0s 22ms/step - loss: 0.0090 - mae: 0.0698 - val_loss: 0.0065 - val_mae: 0.0608 - lr: 1.3061e-06\n",
      "Epoch 74/250\n",
      "1/2 [==============>...............] - ETA: 0s - loss: 0.0076 - mae: 0.0636\n",
      "Epoch 74: ReduceLROnPlateau reducing learning rate to 7.836416443751659e-07.\n",
      "2/2 [==============================] - 0s 23ms/step - loss: 0.0090 - mae: 0.0698 - val_loss: 0.0065 - val_mae: 0.0608 - lr: 1.3061e-06\n",
      "Epoch 75/250\n",
      "2/2 [==============================] - 0s 22ms/step - loss: 0.0090 - mae: 0.0698 - val_loss: 0.0065 - val_mae: 0.0608 - lr: 7.8364e-07\n",
      "Epoch 76/250\n",
      "2/2 [==============================] - 0s 23ms/step - loss: 0.0090 - mae: 0.0698 - val_loss: 0.0065 - val_mae: 0.0608 - lr: 7.8364e-07\n",
      "Epoch 77/250\n",
      "2/2 [==============================] - 0s 25ms/step - loss: 0.0090 - mae: 0.0698 - val_loss: 0.0065 - val_mae: 0.0608 - lr: 7.8364e-07\n",
      "Epoch 78/250\n",
      "1/2 [==============>...............] - ETA: 0s - loss: 0.0095 - mae: 0.0716\n",
      "Epoch 78: ReduceLROnPlateau reducing learning rate to 4.701850002675201e-07.\n",
      "2/2 [==============================] - 0s 26ms/step - loss: 0.0090 - mae: 0.0698 - val_loss: 0.0065 - val_mae: 0.0608 - lr: 7.8364e-07\n",
      "Epoch 79/250\n",
      "2/2 [==============================] - 0s 22ms/step - loss: 0.0090 - mae: 0.0698 - val_loss: 0.0065 - val_mae: 0.0608 - lr: 4.7019e-07\n",
      "Epoch 80/250\n",
      "2/2 [==============================] - 0s 24ms/step - loss: 0.0090 - mae: 0.0698 - val_loss: 0.0065 - val_mae: 0.0608 - lr: 4.7019e-07\n",
      "Epoch 81/250\n",
      "2/2 [==============================] - 0s 21ms/step - loss: 0.0090 - mae: 0.0698 - val_loss: 0.0065 - val_mae: 0.0608 - lr: 4.7019e-07\n",
      "Epoch 82/250\n",
      "1/2 [==============>...............] - ETA: 0s - loss: 0.0098 - mae: 0.0747\n",
      "Epoch 82: ReduceLROnPlateau reducing learning rate to 2.8211100016051206e-07.\n",
      "2/2 [==============================] - 0s 22ms/step - loss: 0.0090 - mae: 0.0698 - val_loss: 0.0065 - val_mae: 0.0608 - lr: 4.7019e-07\n",
      "Epoch 83/250\n",
      "2/2 [==============================] - 0s 20ms/step - loss: 0.0090 - mae: 0.0698 - val_loss: 0.0065 - val_mae: 0.0608 - lr: 2.8211e-07\n",
      "Epoch 84/250\n",
      "2/2 [==============================] - 0s 20ms/step - loss: 0.0090 - mae: 0.0698 - val_loss: 0.0065 - val_mae: 0.0608 - lr: 2.8211e-07\n",
      "Epoch 85/250\n",
      "2/2 [==============================] - 0s 20ms/step - loss: 0.0090 - mae: 0.0698 - val_loss: 0.0065 - val_mae: 0.0608 - lr: 2.8211e-07\n",
      "Epoch 86/250\n",
      "1/2 [==============>...............] - ETA: 0s - loss: 0.0091 - mae: 0.0680\n",
      "Epoch 86: ReduceLROnPlateau reducing learning rate to 1.6926659327509696e-07.\n",
      "2/2 [==============================] - 0s 21ms/step - loss: 0.0090 - mae: 0.0698 - val_loss: 0.0065 - val_mae: 0.0608 - lr: 2.8211e-07\n",
      "Epoch 87/250\n",
      "2/2 [==============================] - 0s 20ms/step - loss: 0.0090 - mae: 0.0698 - val_loss: 0.0065 - val_mae: 0.0608 - lr: 1.6927e-07\n",
      "Epoch 88/250\n",
      "2/2 [==============================] - 0s 20ms/step - loss: 0.0090 - mae: 0.0698 - val_loss: 0.0065 - val_mae: 0.0608 - lr: 1.6927e-07\n",
      "Epoch 89/250\n",
      "2/2 [==============================] - 0s 21ms/step - loss: 0.0090 - mae: 0.0698 - val_loss: 0.0065 - val_mae: 0.0608 - lr: 1.6927e-07\n",
      "Epoch 90/250\n",
      "1/2 [==============>...............] - ETA: 0s - loss: 0.0101 - mae: 0.0738\n",
      "Epoch 90: ReduceLROnPlateau reducing learning rate to 1.0155995937566331e-07.\n",
      "2/2 [==============================] - 0s 20ms/step - loss: 0.0090 - mae: 0.0698 - val_loss: 0.0065 - val_mae: 0.0608 - lr: 1.6927e-07\n",
      "Epoch 91/250\n",
      "2/2 [==============================] - 0s 20ms/step - loss: 0.0090 - mae: 0.0698 - val_loss: 0.0065 - val_mae: 0.0608 - lr: 1.0156e-07\n",
      "Epoch 92/250\n",
      "2/2 [==============================] - 0s 22ms/step - loss: 0.0090 - mae: 0.0698 - val_loss: 0.0065 - val_mae: 0.0608 - lr: 1.0156e-07\n",
      "Epoch 93/250\n",
      "2/2 [==============================] - 0s 21ms/step - loss: 0.0090 - mae: 0.0698 - val_loss: 0.0065 - val_mae: 0.0608 - lr: 1.0156e-07\n"
     ]
    }
   ],
   "source": [
    "# Parâmetros de callbacks\n",
    "\n",
    "monitor = 'val_loss'\n",
    "lr_reduce = ReduceLROnPlateau(monitor=monitor, factor=0.6, min_delta=0.0001, patience=4, verbose=1)\n",
    "early = EarlyStopping(monitor=monitor, mode=\"min\", patience=15)\n",
    "kwargs = {}\n",
    "kwargs['epochs'] = 250\n",
    "kwargs['batch_size'] = 50\n",
    "kwargs['shuffle'] = True\n",
    "kwargs['validation_data'] = (X_test_reshape, y_test)\n",
    "kwargs['verbose'] = 1\n",
    "kwargs['callbacks'] = [early, lr_reduce]\n",
    "\n",
    "history = regressor.fit(X_train_reshape, y_train, **kwargs)"
   ]
  },
  {
   "cell_type": "code",
   "execution_count": 20,
   "metadata": {
    "colab": {
     "base_uri": "https://localhost:8080/",
     "height": 295
    },
    "id": "Xp9HAnWp9Ll9",
    "outputId": "0d5d981c-2578-48d7-fb82-547c69a2f981"
   },
   "outputs": [
    {
     "data": {
      "image/png": "[encoded data removed]",
      "text/plain": [
       "<Figure size 432x288 with 1 Axes>"
      ]
     },
     "metadata": {
      "needs_background": "light"
     },
     "output_type": "display_data"
    }
   ],
   "source": [
    "plt.plot(history.history['loss'])\n",
    "plt.plot(history.history['val_loss'])\n",
    "plt.title('model loss')\n",
    "plt.ylabel('loss')\n",
    "plt.xlabel('epoch')\n",
    "plt.legend(['train', 'val'], loc='upper left')\n",
    "plt.show()"
   ]
  },
  {
   "cell_type": "markdown",
   "metadata": {
    "id": "SkSRLviZ98Rr"
   },
   "source": [
    "Inferência"
   ]
  },
  {
   "cell_type": "code",
   "execution_count": 21,
   "metadata": {
    "colab": {
     "base_uri": "https://localhost:8080/",
     "height": 265
    },
    "id": "IsuXnTtX1RmA",
    "outputId": "8f831214-d647-40da-c076-ced3145ca703"
   },
   "outputs": [
    {
     "data": {
      "image/png": "[encoded data removed]",
      "text/plain": [
       "<Figure size 576x288 with 1 Axes>"
      ]
     },
     "metadata": {
      "needs_background": "light"
     },
     "output_type": "display_data"
    }
   ],
   "source": [
    "# inferencia sobre a base X_train\n",
    "\n",
    "y_train_pred = regressor.predict(X_train_reshape)\n",
    "\n",
    "plt.figure(figsize=(8,4))\n",
    "plt.plot(sc_y.inverse_transform(y_train.reshape(-1,1)), color='b', label='Real', marker='o')\n",
    "plt.plot(sc_y.inverse_transform(y_train_pred.reshape(-1,1)), color='orange', label='Previsto', marker='o')\n",
    "plt.legend()\n",
    "plt.show()"
   ]
  },
  {
   "cell_type": "code",
   "execution_count": 22,
   "metadata": {
    "colab": {
     "base_uri": "https://localhost:8080/"
    },
    "id": "jJr3JvZv-nJO",
    "outputId": "9280c96c-ae53-44a8-9177-82cba5849fc4"
   },
   "outputs": [
    {
     "name": "stdout",
     "output_type": "stream",
     "text": [
      "MSE: 414155.97816319333\n",
      "MAE: 473.03372012867646\n",
      "R2: 0.8262107262427182\n"
     ]
    }
   ],
   "source": [
    "from sklearn.metrics import mean_squared_error, mean_absolute_error, r2_score\n",
    "\n",
    "print(\"MSE: \" + str(mean_squared_error(sc_y.inverse_transform(y_train.reshape(-1,1)), sc_y.inverse_transform(y_train_pred.reshape(-1,1)))))\n",
    "print(\"MAE: \" + str(mean_absolute_error(sc_y.inverse_transform(y_train.reshape(-1,1)), sc_y.inverse_transform(y_train_pred.reshape(-1,1)))))\n",
    "print(\"R2: \" + str(r2_score(sc_y.inverse_transform(y_train.reshape(-1,1)), sc_y.inverse_transform(y_train_pred.reshape(-1,1)))))"
   ]
  },
  {
   "cell_type": "code",
   "execution_count": 23,
   "metadata": {
    "colab": {
     "base_uri": "https://localhost:8080/",
     "height": 265
    },
    "id": "Kn4-W4fhAXfR",
    "outputId": "2970015b-ba80-4659-cd0d-af7252c06c0b"
   },
   "outputs": [
    {
     "data": {
      "image/png": "[encoded data removed]",
      "text/plain": [
       "<Figure size 576x288 with 1 Axes>"
      ]
     },
     "metadata": {
      "needs_background": "light"
     },
     "output_type": "display_data"
    }
   ],
   "source": [
    "# inferencia sobre a base X_test\n",
    "\n",
    "y_test_pred = regressor.predict(X_test_reshape)\n",
    "\n",
    "plt.figure(figsize=(8,4))\n",
    "plt.plot(sc_y.inverse_transform(y_test.reshape(-1,1)), color='b', label='Real', marker='o')\n",
    "plt.plot(sc_y.inverse_transform(y_test_pred.reshape(-1,1)), color='orange', label='Previsto', marker='o')\n",
    "plt.legend()\n",
    "plt.show()"
   ]
  },
  {
   "cell_type": "code",
   "execution_count": 24,
   "metadata": {
    "colab": {
     "base_uri": "https://localhost:8080/"
    },
    "id": "KDxpnnBbAlYn",
    "outputId": "3d6e23f1-2b7a-4d05-ef64-2ec7785f4a85"
   },
   "outputs": [
    {
     "name": "stdout",
     "output_type": "stream",
     "text": [
      "MSE: 299890.2775145663\n",
      "MAE: 412.09827378216914\n",
      "R2: 0.8556529793427932\n"
     ]
    }
   ],
   "source": [
    "print(\"MSE: \" + str(mean_squared_error(sc_y.inverse_transform(y_test.reshape(-1,1)), sc_y.inverse_transform(y_test_pred.reshape(-1,1)))))\n",
    "print(\"MAE: \" + str(mean_absolute_error(sc_y.inverse_transform(y_test.reshape(-1,1)), sc_y.inverse_transform(y_test_pred.reshape(-1,1)))))\n",
    "print(\"R2: \" + str(r2_score(sc_y.inverse_transform(y_test.reshape(-1,1)), sc_y.inverse_transform(y_test_pred.reshape(-1,1)))))"
   ]
  },
  {
   "cell_type": "code",
   "execution_count": null,
   "metadata": {},
   "outputs": [],
   "source": []
  }
 ],
 "metadata": {
  "colab": {
   "name": "LSTM.ipynb",
   "provenance": []
  },
  "kernelspec": {
   "display_name": "Python 3",
   "language": "python",
   "name": "python3"
  },
  "language_info": {
   "codemirror_mode": {
    "name": "ipython",
    "version": 3
   },
   "file_extension": ".py",
   "mimetype": "text/x-python",
   "name": "python",
   "nbconvert_exporter": "python",
   "pygments_lexer": "ipython3",
   "version": "3.8.5"
  }
 },
 "nbformat": 4,
 "nbformat_minor": 1
}
